{
 "cells": [
  {
   "cell_type": "code",
   "execution_count": 13,
   "metadata": {},
   "outputs": [],
   "source": [
    "import couchdb"
   ]
  },
  {
   "cell_type": "code",
   "execution_count": 14,
   "metadata": {},
   "outputs": [],
   "source": [
    "# connect to couchdb server\n",
    "def connect_server(user,password):\n",
    "    server = couchdb.Server(\"http://%s:%s@172.26.131.32:5984/\" % (user,password))"
   ]
  },
  {
   "cell_type": "code",
   "execution_count": 15,
   "metadata": {},
   "outputs": [],
   "source": [
    "# identify required database\n",
    "def find_db(db_name):\n",
    "    if db_name in server:\n",
    "        db = server[db_name]\n",
    "    else:\n",
    "        print('Database not found!')"
   ]
  },
  {
   "cell_type": "code",
   "execution_count": 16,
   "metadata": {},
   "outputs": [],
   "source": [
    "# retrive views from db\n",
    "def get_view(view_name):\n",
    "    for tweet in db.view(f'keyViews/{view_name}',group=True):\n",
    "        print(tweet.key,tweet.value)"
   ]
  },
  {
   "cell_type": "code",
   "execution_count": 17,
   "metadata": {},
   "outputs": [
    {
     "name": "stdout",
     "output_type": "stream",
     "text": [
      "['Brisbane, Queensland', 'neutral'] {'sum': 0, 'count': 1, 'min': 0, 'max': 0, 'sumsqr': 0}\n",
      "['Darwin, Northern Territory', 'neutral'] {'sum': -0.0772, 'count': 1, 'min': -0.0772, 'max': -0.0772, 'sumsqr': 0.005959840000000001}\n",
      "['Gold Coast, Queensland', 'labor'] {'sum': 0.296, 'count': 1, 'min': 0.296, 'max': 0.296, 'sumsqr': 0.08761599999999999}\n",
      "['Gold Coast, Queensland', 'neutral'] {'sum': 0, 'count': 1, 'min': 0, 'max': 0, 'sumsqr': 0}\n",
      "['Melbourne, Victoria', 'neutral'] {'sum': -0.28810000000000013, 'count': 3, 'min': -0.765, 'max': 0.7269, 'sumsqr': 1.17610861}\n",
      "['Perth, Western Australia', 'neutral'] {'sum': 0, 'count': 1, 'min': 0, 'max': 0, 'sumsqr': 0}\n"
     ]
    }
   ],
   "source": [
    "# test\n",
    "connect_server('admin','admin')\n",
    "find_db('data1')\n",
    "get_view('compoundScore')"
   ]
  }
 ],
 "metadata": {
  "kernelspec": {
   "display_name": "Python 3",
   "language": "python",
   "name": "python3"
  },
  "language_info": {
   "codemirror_mode": {
    "name": "ipython",
    "version": 3
   },
   "file_extension": ".py",
   "mimetype": "text/x-python",
   "name": "python",
   "nbconvert_exporter": "python",
   "pygments_lexer": "ipython3",
   "version": "3.8.5"
  }
 },
 "nbformat": 4,
 "nbformat_minor": 4
}
