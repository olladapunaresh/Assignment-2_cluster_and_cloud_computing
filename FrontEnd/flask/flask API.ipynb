{
 "cells": [
  {
   "cell_type": "code",
   "execution_count": 2,
   "metadata": {},
   "outputs": [],
   "source": [
    "from flask import Flask\n",
    "import couchdb"
   ]
  },
  {
   "cell_type": "code",
   "execution_count": 3,
   "metadata": {},
   "outputs": [],
   "source": [
    "# intialisation\n",
    "app = Flask(__name__)\n",
    "\n",
    "# connect to couchdb server\n",
    "def connect_server(user,password):\n",
    "    server = couchdb.Server(\"http://%s:%s@172.26.131.32:5984/\" % (user,password))\n",
    "    return server\n",
    "\n",
    "# identify required database\n",
    "def get_db(db_name,server):\n",
    "    if db_name in server:\n",
    "        db = server[db_name]\n",
    "        return db\n",
    "    else:\n",
    "        print('Database not found!')\n",
    "        \n",
    "# retrive views from db\n",
    "def get_view(view_name,db,toGroup):\n",
    "    outfile = dict()\n",
    "    for tweet in db.view(f'keyViews/{view_name}',group=toGroup):\n",
    "        outfile[str(tweet.key)]=tweet.value\n",
    "    return outfile\n",
    "\n",
    "# route to compoundScore view, return a dictionary\n",
    "@app.route('/compoundScore',methods = ['GET'])\n",
    "def getCompoundScore():\n",
    "    return get_view('compoundScore',db,True)\n",
    "\n",
    "@app.route('/neutralScore',methods = ['GET'])\n",
    "def getNeutralScore():\n",
    "    return get_view('neutralScore',db,True)\n",
    "\n",
    "@app.route('/positiveScore',methods = ['GET'])\n",
    "def getPositiveScore():\n",
    "    return get_view('positiveScore',db,True)\n",
    "\n",
    "@app.route('/negativeScore',methods = ['GET'])\n",
    "def getNegativeScore():\n",
    "    return get_view('negativeScore',db,True)\n",
    "\n",
    "@app.route('/location',methods=['GET'])\n",
    "def getLocation():\n",
    "    return get_view('location',db,False)\n",
    "\n",
    "@app.route('/textdoc',methods=['GET'])\n",
    "def getLocation():\n",
    "    return get_view('textdoc',db,False)"
   ]
  },
  {
   "cell_type": "code",
   "execution_count": 4,
   "metadata": {},
   "outputs": [],
   "source": [
    "# configuration\n",
    "server=connect_server('admin','admin')\n",
    "db=get_db('finaldata',server)"
   ]
  },
  {
   "cell_type": "code",
   "execution_count": null,
   "metadata": {},
   "outputs": [
    {
     "name": "stdout",
     "output_type": "stream",
     "text": [
      " * Serving Flask app \"__main__\" (lazy loading)\n",
      " * Environment: production\n",
      "   WARNING: This is a development server. Do not use it in a production deployment.\n",
      "   Use a production WSGI server instead.\n",
      " * Debug mode: off\n"
     ]
    },
    {
     "name": "stderr",
     "output_type": "stream",
     "text": [
      " * Running on http://127.0.0.1:5000/ (Press CTRL+C to quit)\n",
      "127.0.0.1 - - [16/May/2021 13:09:46] \"\u001b[33mGET / HTTP/1.1\u001b[0m\" 404 -\n",
      "127.0.0.1 - - [16/May/2021 13:09:53] \"\u001b[37mGET /compoundScore HTTP/1.1\u001b[0m\" 200 -\n"
     ]
    }
   ],
   "source": [
    "if __name__ == '__main__':\n",
    "    #app.run(debug=True)                       # debug mode\n",
    "    # app.run(host='0.0.0.0', port=5000)        # deployment mode\n",
    "    app.run()"
   ]
  }
 ],
 "metadata": {
  "kernelspec": {
   "display_name": "Python 3",
   "language": "python",
   "name": "python3"
  },
  "language_info": {
   "codemirror_mode": {
    "name": "ipython",
    "version": 3
   },
   "file_extension": ".py",
   "mimetype": "text/x-python",
   "name": "python",
   "nbconvert_exporter": "python",
   "pygments_lexer": "ipython3",
   "version": "3.8.5"
  }
 },
 "nbformat": 4,
 "nbformat_minor": 4
}
