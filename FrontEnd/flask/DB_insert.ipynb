{
 "cells": [
  {
   "cell_type": "code",
   "execution_count": 13,
   "metadata": {},
   "outputs": [],
   "source": [
    "import couchdb\n",
    "from connection_details import *\n",
    "import ijson\n",
    "import json\n",
    "import importlib\n",
    "from time2relax import CouchDB\n",
    "\n",
    "def create_connection():\n",
    "    couch = couchdb.Server('http://{}:{}@{}:{}/'.format(USERNAME,PASSWORD,HOST,PORT))\n",
    "    return couch\n",
    "\n",
    "def create_database(couch,database_name):\n",
    "    try:\n",
    "        db = couch.create(database_name)\n",
    "\n",
    "    except:\n",
    "        db=couch[database_name]\n",
    "    return db\n",
    "\n",
    "# add 'support' field to each item(i.e tweet) in the json file(converted to dict) based on the json file it belongs to \n",
    "# (e.g. tweets in labor.json will have support = 'labor')\n",
    "def load_data(support,data):\n",
    "    db = CouchDB('http://{}:{}@{}:{}/{}'.format(USERNAME,PASSWORD,HOST,PORT,'data1'))\n",
    "    for tweet in data:\n",
    "        if support == 'neutral':\n",
    "            tweet['support'] = 'neutral'\n",
    "        elif support == 'labor':\n",
    "            tweet['support'] = 'labor'\n",
    "        elif support == 'liberal':\n",
    "            tweet['support'] = 'liberal'\n",
    "    # push processed dictonary to the database in bulk\n",
    "    db.bulk_docs(data) \n",
    "\n",
    "# called by App.py \n",
    "def insert_DB(support,file):\n",
    "    # convert resulted json file to dictionary\n",
    "    data = json.loads(file)\n",
    "    #https://www.geeksforgeeks.org/append-to-json-file-using-python/\n",
    "    load_data(support,data)\n",
    "\n"
   ]
  },
  {
   "cell_type": "code",
   "execution_count": null,
   "metadata": {},
   "outputs": [],
   "source": []
  }
 ],
 "metadata": {
  "kernelspec": {
   "display_name": "Python 3",
   "language": "python",
   "name": "python3"
  },
  "language_info": {
   "codemirror_mode": {
    "name": "ipython",
    "version": 3
   },
   "file_extension": ".py",
   "mimetype": "text/x-python",
   "name": "python",
   "nbconvert_exporter": "python",
   "pygments_lexer": "ipython3",
   "version": "3.8.5"
  }
 },
 "nbformat": 4,
 "nbformat_minor": 4
}
