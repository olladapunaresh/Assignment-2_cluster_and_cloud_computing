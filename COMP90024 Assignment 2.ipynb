{
 "cells": [
  {
   "cell_type": "code",
   "execution_count": 5,
   "metadata": {},
   "outputs": [
    {
     "name": "stdout",
     "output_type": "stream",
     "text": [
      "5110\n"
     ]
    }
   ],
   "source": [
    "import json\n",
    "from shapely.geometry import shape, Point\n",
    "\n",
    "with open('vic.json') as v:\n",
    "    data = json.load(v)\n",
    "    cells = dict()\n",
    "    for i in range(len(data)):\n",
    "        cells[data[i]['properties']['Suburb_Name'].strip()] = shape(data[i]['geometry'])\n",
    "\n",
    "with open('postcodes.json') as p:\n",
    "    codes = json.load(p)\n",
    "    namePC = dict()\n",
    "    for i in range(len(codes)):\n",
    "        namePC[codes[i]['locality']] = codes[i]['postcode']\n",
    "    \n",
    "def toPostcode(name):\n",
    "    for key in namePC:\n",
    "        # https://stackoverflow.com/questions/319426/how-do-i-do-a-case-insensitive-string-comparison\n",
    "        if key.lower() == name.lower():\n",
    "            return namePC[key]\n",
    "\n",
    "def mapping(point):\n",
    "    point = Point(p1[0],p1[1])\n",
    "    for key in cells:\n",
    "        # https://stackoverflow.com/questions/43892459/check-if-geo-point-is-inside-or-outside-of-polygon\n",
    "        # contains() returns false if point on the border\n",
    "        if cells[key].contains(point) or cells[key].touches(point):\n",
    "            print(toPostcode(key))\n",
    "            return\n",
    "        \n",
    "#test\n",
    "p1= [144.97481346,-37.87559865]\n",
    "mapping(p1)\n",
    "            "
   ]
  },
  {
   "cell_type": "code",
   "execution_count": null,
   "metadata": {},
   "outputs": [],
   "source": []
  }
 ],
 "metadata": {
  "kernelspec": {
   "display_name": "Python 3",
   "language": "python",
   "name": "python3"
  },
  "language_info": {
   "codemirror_mode": {
    "name": "ipython",
    "version": 3
   },
   "file_extension": ".py",
   "mimetype": "text/x-python",
   "name": "python",
   "nbconvert_exporter": "python",
   "pygments_lexer": "ipython3",
   "version": "3.8.5"
  }
 },
 "nbformat": 4,
 "nbformat_minor": 4
}
